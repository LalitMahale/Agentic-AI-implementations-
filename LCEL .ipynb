{
 "cells": [
  {
   "cell_type": "code",
   "execution_count": 1,
   "id": "b21bcc12-0319-4e45-823b-125f4d0a6d23",
   "metadata": {},
   "outputs": [
    {
     "data": {
      "text/plain": [
       "True"
      ]
     },
     "execution_count": 1,
     "metadata": {},
     "output_type": "execute_result"
    }
   ],
   "source": [
    "import os\n",
    "from dotenv import load_dotenv\n",
    "load_dotenv()"
   ]
  },
  {
   "cell_type": "code",
   "execution_count": 2,
   "id": "15f1bf6d-3369-41ff-affd-a4896dd45624",
   "metadata": {},
   "outputs": [
    {
     "name": "stderr",
     "output_type": "stream",
     "text": [
      "C:\\Users\\akrivia\\miniconda3\\envs\\genai\\Lib\\site-packages\\tqdm\\auto.py:21: TqdmWarning: IProgress not found. Please update jupyter and ipywidgets. See https://ipywidgets.readthedocs.io/en/stable/user_install.html\n",
      "  from .autonotebook import tqdm as notebook_tqdm\n"
     ]
    }
   ],
   "source": [
    "from langchain_google_genai import GoogleGenerativeAIEmbeddings\n",
    "from langchain_google_genai import ChatGoogleGenerativeAI"
   ]
  },
  {
   "cell_type": "code",
   "execution_count": 3,
   "id": "a97c8c90-3652-4a27-a14b-865f1e04f3ca",
   "metadata": {},
   "outputs": [],
   "source": [
    "embedding = GoogleGenerativeAIEmbeddings(google_api_key=os.getenv(\"GOOGLE_API_KEY\"),model=\"models/embedding-001\")\n",
    "llm = ChatGoogleGenerativeAI(google_api_key = os.getenv(\"GOOGLE_API_KEY\"),model=\"gemini-2.5-flash\")"
   ]
  },
  {
   "cell_type": "code",
   "execution_count": 4,
   "id": "d516395b-0d41-42c9-9114-ac94b13c5b88",
   "metadata": {},
   "outputs": [
    {
     "data": {
      "text/plain": [
       "'Hi there! How can I help you today?'"
      ]
     },
     "execution_count": 4,
     "metadata": {},
     "output_type": "execute_result"
    }
   ],
   "source": [
    "llm.invoke(\"hi\").content"
   ]
  },
  {
   "cell_type": "markdown",
   "id": "6c3a6769-0e74-4269-a5fa-9385a93e6969",
   "metadata": {},
   "source": [
    "## Simple AI Assistant "
   ]
  },
  {
   "cell_type": "code",
   "execution_count": 5,
   "id": "5b36dd8c-60cf-47d5-8225-23f33b72c7d1",
   "metadata": {},
   "outputs": [
    {
     "name": "stdin",
     "output_type": "stream",
     "text": [
      "Type your Question.\n",
      "If you want to quit the chat write q hi\n"
     ]
    },
    {
     "name": "stdout",
     "output_type": "stream",
     "text": [
      "Hi there! How can I help you today?\n"
     ]
    },
    {
     "name": "stdin",
     "output_type": "stream",
     "text": [
      "Type your Question.\n",
      "If you want to quit the chat write q q\n"
     ]
    },
    {
     "name": "stdout",
     "output_type": "stream",
     "text": [
      "Goodbye take care Yourself\n"
     ]
    }
   ],
   "source": [
    "while True:\n",
    "    question = input(\"Type your Question.\\nIf you want to quit the chat write q\")\n",
    "    if question != \"q\":\n",
    "        print(llm.invoke(question).content)\n",
    "    else:\n",
    "        print(\"Goodbye take care Yourself\")\n",
    "        break"
   ]
  },
  {
   "cell_type": "markdown",
   "id": "c082a206-e2f6-4ed4-82ca-d5632e551c7d",
   "metadata": {},
   "source": [
    "### memory integration"
   ]
  },
  {
   "cell_type": "code",
   "execution_count": 6,
   "id": "dba0470e-ef15-485f-8551-8956052598ad",
   "metadata": {},
   "outputs": [],
   "source": [
    "from langchain_core.chat_history import BaseChatMessageHistory\n",
    "from langchain_core.chat_history import InMemoryChatMessageHistory\n",
    "from langchain_core.runnables.history import RunnableWithMessageHistory\n",
    "from langchain_core.messages import AIMessage"
   ]
  },
  {
   "cell_type": "code",
   "execution_count": 7,
   "id": "458c5fb1-0c3d-4e89-a842-9bd2200df61b",
   "metadata": {},
   "outputs": [],
   "source": [
    "store = {}"
   ]
  },
  {
   "cell_type": "code",
   "execution_count": 8,
   "id": "486da902-e176-4d37-b7c3-54e53b1c8bdb",
   "metadata": {},
   "outputs": [],
   "source": [
    "def get_session_history(session_id:str) -> BaseChatMessageHistory:\n",
    "    if session_id not in store:\n",
    "        store[session_id] = InMemoryChatMessageHistory()\n",
    "    return store[session_id]"
   ]
  },
  {
   "cell_type": "code",
   "execution_count": 9,
   "id": "a1fe099b-69cc-45a2-bce9-55d9ad761bee",
   "metadata": {},
   "outputs": [],
   "source": [
    "config = {\"configurable\":{'session_id':'firstchat'}}"
   ]
  },
  {
   "cell_type": "code",
   "execution_count": 10,
   "id": "c8944f68-adfd-4938-89ea-bd9f1e0076fe",
   "metadata": {},
   "outputs": [],
   "source": [
    "model_with_memory = RunnableWithMessageHistory(llm,get_session_history)"
   ]
  },
  {
   "cell_type": "code",
   "execution_count": 11,
   "id": "38305a77-c78d-4920-ac4b-0f91c6313291",
   "metadata": {},
   "outputs": [
    {
     "data": {
      "text/plain": [
       "'Hi Lalit! Nice to meet you.\\n\\nHow can I assist you today?'"
      ]
     },
     "execution_count": 11,
     "metadata": {},
     "output_type": "execute_result"
    }
   ],
   "source": [
    "model_with_memory.invoke((\"Hi, I'm Lalit\"),config = config).content"
   ]
  },
  {
   "cell_type": "code",
   "execution_count": 12,
   "id": "1a5a9f5b-1185-4e44-add3-eb6bbe486461",
   "metadata": {},
   "outputs": [
    {
     "data": {
      "text/plain": [
       "'That\\'s a profound and deeply personal question, Lalit!\\n\\nAs an AI, I don\\'t have access to your personal history, memories, feelings, or experiences. I don\\'t know who you are as an individual human being with all your unique qualities, relationships, and journey.\\n\\n\"Who am I?\" is a question that people often explore throughout their lives. It typically refers to:\\n\\n*   **Your unique identity:** Your personality, values, beliefs, passions, strengths, weaknesses.\\n*   **Your history:** Your past experiences, the people who shaped you, the challenges you\\'ve overcome.\\n*   **Your relationships:** How you connect with others, your roles in their lives (friend, family member, colleague).\\n*   **Your purpose:** What drives you, what you want to achieve, what gives your life meaning.\\n*   **Your aspirations:** Who you want to become in the future.\\n\\nWhile I can\\'t tell you who you are, I can help you think about it. If you\\'d like, we could explore some prompts or ideas that might help you reflect on different aspects of your identity. For example, we could discuss:\\n\\n*   What are your core values?\\n*   What activities make you feel most alive?\\n*   What challenges have shaped you the most?\\n*   How do you want to be remembered?\\n\\nLet me know if you\\'d like to explore this further!'"
      ]
     },
     "execution_count": 12,
     "metadata": {},
     "output_type": "execute_result"
    }
   ],
   "source": [
    "model_with_memory.invoke((\"who am i ?\"),config = config).content"
   ]
  },
  {
   "cell_type": "markdown",
   "id": "5cd956a2-985a-4c96-8580-7073f89af1fc",
   "metadata": {},
   "source": [
    "## RAG base AI Assistant"
   ]
  },
  {
   "cell_type": "code",
   "execution_count": 13,
   "id": "6ee6895f-2a47-4ed6-8a91-2bdd11cf6e33",
   "metadata": {},
   "outputs": [],
   "source": [
    "from langchain_community.document_loaders import TextLoader, DirectoryLoader, PyPDFLoader,PyM\n",
    "from langchain_text_splitters import RecursiveCharacterTextSplitter\n",
    "from langchain import PromptTemplate\n",
    "from langchain_core.runnables import RunnableParallel, RunnablePassthrough, RunnableLambda\n",
    "from langchain_core.output_parsers import StrOutputParser\n",
    "from langchain_chroma import Chroma"
   ]
  },
  {
   "cell_type": "code",
   "execution_count": 16,
   "id": "734f9acd-44ab-45fe-9e14-3c698c3e4098",
   "metadata": {},
   "outputs": [],
   "source": [
    "loader = DirectoryLoader(\"./data\",glob=\"./*.pdf\",loader_cls=PyPDFLoader)\n",
    "pdf_loader = PyPDFLoader(\"data/intro-to-algo-4e.pdf\").load()"
   ]
  },
  {
   "cell_type": "code",
   "execution_count": 17,
   "id": "fe56b00c-0bc1-4c46-85fb-1a66b54709ed",
   "metadata": {
    "scrolled": true
   },
   "outputs": [
    {
     "name": "stderr",
     "output_type": "stream",
     "text": [
      "Previous trailer cannot be read: (\"'NumberObject' object is not subscriptable\",)\n",
      "parsing for Object Streams\n"
     ]
    }
   ],
   "source": [
    "# docs = loader.load()\n",
    "\n",
    "docs = pdf_loader.load()"
   ]
  },
  {
   "cell_type": "code",
   "execution_count": null,
   "id": "4a59b4b4-b75a-45b5-a67a-649e23532309",
   "metadata": {},
   "outputs": [],
   "source": [
    "text_splitter = RecursiveCharacterTextSplitter(chunk_size = 50,chunk_overlap = 10,length_function = len)"
   ]
  },
  {
   "cell_type": "code",
   "execution_count": null,
   "id": "9371d892-3d37-434c-ba18-6a69cb55c45c",
   "metadata": {},
   "outputs": [],
   "source": [
    "new_docs = text_splitter.split_documents(documents = docs)\n",
    "doc_strings = [doc.page_content for doc in new_docs]"
   ]
  },
  {
   "cell_type": "code",
   "execution_count": null,
   "id": "2a3824ff-1116-42f6-bf48-4025d3001072",
   "metadata": {},
   "outputs": [],
   "source": [
    "docs"
   ]
  },
  {
   "cell_type": "code",
   "execution_count": null,
   "id": "41f40f1b-8168-4451-b07c-c256c1e9f29f",
   "metadata": {},
   "outputs": [],
   "source": []
  },
  {
   "cell_type": "code",
   "execution_count": null,
   "id": "6762ccd2-2af2-48df-883d-97a87893e3d0",
   "metadata": {},
   "outputs": [],
   "source": [
    "db = Chroma.from_documents(new_docs,embedding=embedding)\n",
    "retriever = db.as_retriever(search_kwargs = {\"k\":4})"
   ]
  },
  {
   "cell_type": "markdown",
   "id": "59121265-ac0b-4df9-87f4-ba74a2392a3d",
   "metadata": {},
   "source": [
    "### Agents"
   ]
  },
  {
   "cell_type": "code",
   "execution_count": 18,
   "id": "410c8281-8e83-4085-9da9-0c6223ac316d",
   "metadata": {},
   "outputs": [],
   "source": [
    "from langchain_community.tools import WikipediaQueryRun\n",
    "from langchain_community.utilities import WikipediaAPIWrapper"
   ]
  },
  {
   "cell_type": "code",
   "execution_count": 19,
   "id": "1c6da01f-da5f-425c-a8ff-5bebf70c38ed",
   "metadata": {},
   "outputs": [],
   "source": [
    "wiki_api_wrapper = WikipediaAPIWrapper()"
   ]
  },
  {
   "cell_type": "code",
   "execution_count": 20,
   "id": "6f81d11a-08a3-4e33-b8dc-333908cb548f",
   "metadata": {},
   "outputs": [],
   "source": [
    "tool  = WikipediaQueryRun(api_wrapper=wiki_api_wrapper)"
   ]
  },
  {
   "cell_type": "code",
   "execution_count": 21,
   "id": "3e1f0c76-d085-46f1-9eb5-643e58436ea9",
   "metadata": {},
   "outputs": [
    {
     "data": {
      "text/plain": [
       "'wikipedia'"
      ]
     },
     "execution_count": 21,
     "metadata": {},
     "output_type": "execute_result"
    }
   ],
   "source": [
    "tool.name"
   ]
  },
  {
   "cell_type": "code",
   "execution_count": 23,
   "id": "302bc7d5-ef05-4dc8-bd8e-3c1c1beeb833",
   "metadata": {},
   "outputs": [
    {
     "name": "stderr",
     "output_type": "stream",
     "text": [
      "C:\\Users\\akrivia\\miniconda3\\envs\\genai\\Lib\\site-packages\\wikipedia\\wikipedia.py:389: GuessedAtParserWarning: No parser was explicitly specified, so I'm using the best available HTML parser for this system (\"html.parser\"). This usually isn't a problem, but if you run this code on another system, or in a different virtual environment, it may use a different parser and behave differently.\n",
      "\n",
      "The code that caused this warning is on line 389 of the file C:\\Users\\akrivia\\miniconda3\\envs\\genai\\Lib\\site-packages\\wikipedia\\wikipedia.py. To get rid of this warning, pass the additional argument 'features=\"html.parser\"' to the BeautifulSoup constructor.\n",
      "\n",
      "  lis = BeautifulSoup(html).find_all('li')\n"
     ]
    },
    {
     "data": {
      "text/plain": [
       "'Page: Artificial intelligence\\nSummary: Artificial intelligence (AI) is the capability of computational systems to perform tasks typically associated with human intelligence, such as learning, reasoning, problem-solving, perception, and decision-making. It is a field of research in computer science that develops and studies methods and software that enable machines to perceive their environment and use learning and intelligence to take actions that maximize their chances of achieving defined goals.\\nHigh-profile applications of AI include advanced web search engines (e.g., Google Search); recommendation systems (used by YouTube, Amazon, and Netflix); virtual assistants (e.g., Google Assistant, Siri, and Alexa); autonomous vehicles (e.g., Waymo); generative and creative tools (e.g., language models and AI art); and superhuman play and analysis in strategy games (e.g., chess and Go). However, many AI applications are not perceived as AI: \"A lot of cutting edge AI has filtered into general applications, often without being called AI because once something becomes useful enough and common enough it\\'s not labeled AI anymore.\"\\nVarious subfields of AI research are centered around particular goals and the use of particular tools. The traditional goals of AI research include learning, reasoning, knowledge representation, planning, natural language processing, perception, and support for robotics. To reach these goals, AI researchers have adapted and integrated a wide range of techniques, including search and mathematical optimization, formal logic, artificial neural networks, and methods based on statistics, operations research, and economics. AI also draws upon psychology, linguistics, philosophy, neuroscience, and other fields. Some companies, such as OpenAI, Google DeepMind and Meta, aim to create artificial general intelligence (AGI)—AI that can complete virtually any cognitive task at least as well as a human.\\nArtificial intelligence was founded as an academic discipline in 1956, and the field went through multiple cycles of optimism throughout its history, followed by periods of disappointment and loss of funding, known as AI winters. Funding and interest vastly increased after 2012 when graphics processing units started being used to accelerate neural networks and deep learning outperformed previous AI techniques. This growth accelerated further after 2017 with the transformer architecture. In the 2020s, an ongoing period of rapid progress in advanced generative AI became known as the AI boom. Generative AI\\'s ability to create and modify content has led to several unintended consequences and harms, which has raised ethical concerns about AI\\'s long-term effects and potential existential risks, prompting discussions about regulatory policies to ensure the safety and benefits of the technology.\\n\\n\\n\\nPage: .ai\\nSummary: .ai is the Internet country code top-level domain (ccTLD) for Anguilla, a British Overseas Territory in the Caribbean. It is administered by the government of Anguilla.\\nIt is a popular domain hack with companies and projects related to the artificial intelligence industry (AI).\\nGoogle\\'s ad targeting treats .ai as a generic top-level domain (gTLD) because \"users and website owners frequently see [the domain] as being more generic than country-targeted.\"\\nIdentity Digital began managing the domain as of January 2025.'"
      ]
     },
     "execution_count": 23,
     "metadata": {},
     "output_type": "execute_result"
    }
   ],
   "source": [
    "tool.run({\"query\":\"ai\"})"
   ]
  },
  {
   "cell_type": "code",
   "execution_count": 24,
   "id": "2cf9ee63-ff01-4e99-a373-243ce81af95c",
   "metadata": {},
   "outputs": [],
   "source": [
    "from langchain_community.tools import YouTubeSearchTool"
   ]
  },
  {
   "cell_type": "code",
   "execution_count": 25,
   "id": "d103fcd4-c23e-4590-a4ce-b8c7b454ce2f",
   "metadata": {},
   "outputs": [],
   "source": [
    "yt = YouTubeSearchTool()"
   ]
  },
  {
   "cell_type": "code",
   "execution_count": 26,
   "id": "1e5fd516-803a-4410-ab6a-105d930fb8ec",
   "metadata": {},
   "outputs": [
    {
     "data": {
      "text/plain": [
       "'youtube_search'"
      ]
     },
     "execution_count": 26,
     "metadata": {},
     "output_type": "execute_result"
    }
   ],
   "source": [
    "yt.name"
   ]
  },
  {
   "cell_type": "code",
   "execution_count": 27,
   "id": "92c46541-925f-482c-9a38-04000c57fbe3",
   "metadata": {},
   "outputs": [
    {
     "data": {
      "text/plain": [
       "{'query': {'title': 'Query', 'type': 'string'}}"
      ]
     },
     "execution_count": 27,
     "metadata": {},
     "output_type": "execute_result"
    }
   ],
   "source": [
    "yt.args"
   ]
  },
  {
   "cell_type": "code",
   "execution_count": 30,
   "id": "ee0f2a7e-e4ad-4726-9d94-3eb175d13834",
   "metadata": {},
   "outputs": [
    {
     "data": {
      "text/plain": [
       "\"['https://www.youtube.com/shorts/c9ooPiwDdio', 'https://www.youtube.com/shorts/JhAVOTV1k_Q']\""
      ]
     },
     "execution_count": 30,
     "metadata": {},
     "output_type": "execute_result"
    }
   ],
   "source": [
    "yt.run({\"query\":\"indian drama\"})"
   ]
  },
  {
   "cell_type": "code",
   "execution_count": 31,
   "id": "4151afc6-940d-47a9-a4cc-3e6ec63016b0",
   "metadata": {},
   "outputs": [],
   "source": [
    "from langchain.agents import AgentType\n",
    "from langchain.agents import load_tools\n",
    "from langchain.agents import initialize_agent"
   ]
  },
  {
   "cell_type": "code",
   "execution_count": 33,
   "id": "87657587-1656-45d9-8475-7cc077f1c0f7",
   "metadata": {
    "scrolled": true
   },
   "outputs": [
    {
     "ename": "AttributeError",
     "evalue": "'tuple' object has no attribute 'is_single_input'",
     "output_type": "error",
     "traceback": [
      "\u001b[31m---------------------------------------------------------------------------\u001b[39m",
      "\u001b[31mAttributeError\u001b[39m                            Traceback (most recent call last)",
      "\u001b[36mCell\u001b[39m\u001b[36m \u001b[39m\u001b[32mIn[33]\u001b[39m\u001b[32m, line 1\u001b[39m\n\u001b[32m----> \u001b[39m\u001b[32m1\u001b[39m agent = \u001b[43minitialize_agent\u001b[49m\u001b[43m(\u001b[49m\u001b[43mtools\u001b[49m\u001b[43m=\u001b[49m\u001b[43mtool\u001b[49m\u001b[43m,\u001b[49m\u001b[43mllm\u001b[49m\u001b[43m=\u001b[49m\u001b[43mllm\u001b[49m\u001b[43m,\u001b[49m\u001b[43magent\u001b[49m\u001b[43m \u001b[49m\u001b[43m=\u001b[49m\u001b[43m \u001b[49m\u001b[43mAgentType\u001b[49m\u001b[43m.\u001b[49m\u001b[43mZERO_SHOT_REACT_DESCRIPTION\u001b[49m\u001b[43m,\u001b[49m\u001b[43mverbose\u001b[49m\u001b[43m \u001b[49m\u001b[43m=\u001b[49m\u001b[43m \u001b[49m\u001b[38;5;28;43;01mTrue\u001b[39;49;00m\u001b[43m)\u001b[49m\n",
      "\u001b[36mFile \u001b[39m\u001b[32m~\\miniconda3\\envs\\genai\\Lib\\site-packages\\langchain_core\\_api\\deprecation.py:189\u001b[39m, in \u001b[36mdeprecated.<locals>.deprecate.<locals>.warning_emitting_wrapper\u001b[39m\u001b[34m(*args, **kwargs)\u001b[39m\n\u001b[32m    187\u001b[39m     warned = \u001b[38;5;28;01mTrue\u001b[39;00m\n\u001b[32m    188\u001b[39m     emit_warning()\n\u001b[32m--> \u001b[39m\u001b[32m189\u001b[39m \u001b[38;5;28;01mreturn\u001b[39;00m \u001b[43mwrapped\u001b[49m\u001b[43m(\u001b[49m\u001b[43m*\u001b[49m\u001b[43margs\u001b[49m\u001b[43m,\u001b[49m\u001b[43m \u001b[49m\u001b[43m*\u001b[49m\u001b[43m*\u001b[49m\u001b[43mkwargs\u001b[49m\u001b[43m)\u001b[49m\n",
      "\u001b[36mFile \u001b[39m\u001b[32m~\\miniconda3\\envs\\genai\\Lib\\site-packages\\langchain\\agents\\initialize.py:75\u001b[39m, in \u001b[36minitialize_agent\u001b[39m\u001b[34m(tools, llm, agent, callback_manager, agent_path, agent_kwargs, tags, **kwargs)\u001b[39m\n\u001b[32m     73\u001b[39m     agent_cls = AGENT_TO_CLASS[agent]\n\u001b[32m     74\u001b[39m     agent_kwargs = agent_kwargs \u001b[38;5;129;01mor\u001b[39;00m {}\n\u001b[32m---> \u001b[39m\u001b[32m75\u001b[39m     agent_obj = \u001b[43magent_cls\u001b[49m\u001b[43m.\u001b[49m\u001b[43mfrom_llm_and_tools\u001b[49m\u001b[43m(\u001b[49m\n\u001b[32m     76\u001b[39m \u001b[43m        \u001b[49m\u001b[43mllm\u001b[49m\u001b[43m,\u001b[49m\u001b[43m \u001b[49m\u001b[43mtools\u001b[49m\u001b[43m,\u001b[49m\u001b[43m \u001b[49m\u001b[43mcallback_manager\u001b[49m\u001b[43m=\u001b[49m\u001b[43mcallback_manager\u001b[49m\u001b[43m,\u001b[49m\u001b[43m \u001b[49m\u001b[43m*\u001b[49m\u001b[43m*\u001b[49m\u001b[43magent_kwargs\u001b[49m\n\u001b[32m     77\u001b[39m \u001b[43m    \u001b[49m\u001b[43m)\u001b[49m\n\u001b[32m     78\u001b[39m \u001b[38;5;28;01melif\u001b[39;00m agent_path \u001b[38;5;129;01mis\u001b[39;00m \u001b[38;5;129;01mnot\u001b[39;00m \u001b[38;5;28;01mNone\u001b[39;00m:\n\u001b[32m     79\u001b[39m     agent_obj = load_agent(\n\u001b[32m     80\u001b[39m         agent_path, llm=llm, tools=tools, callback_manager=callback_manager\n\u001b[32m     81\u001b[39m     )\n",
      "\u001b[36mFile \u001b[39m\u001b[32m~\\miniconda3\\envs\\genai\\Lib\\site-packages\\langchain\\agents\\mrkl\\base.py:139\u001b[39m, in \u001b[36mZeroShotAgent.from_llm_and_tools\u001b[39m\u001b[34m(cls, llm, tools, callback_manager, output_parser, prefix, suffix, format_instructions, input_variables, **kwargs)\u001b[39m\n\u001b[32m    112\u001b[39m \u001b[38;5;129m@classmethod\u001b[39m\n\u001b[32m    113\u001b[39m \u001b[38;5;28;01mdef\u001b[39;00m\u001b[38;5;250m \u001b[39m\u001b[34mfrom_llm_and_tools\u001b[39m(\n\u001b[32m    114\u001b[39m     \u001b[38;5;28mcls\u001b[39m,\n\u001b[32m   (...)\u001b[39m\u001b[32m    123\u001b[39m     **kwargs: Any,\n\u001b[32m    124\u001b[39m ) -> Agent:\n\u001b[32m    125\u001b[39m \u001b[38;5;250m    \u001b[39m\u001b[33;03m\"\"\"Construct an agent from an LLM and tools.\u001b[39;00m\n\u001b[32m    126\u001b[39m \n\u001b[32m    127\u001b[39m \u001b[33;03m    Args:\u001b[39;00m\n\u001b[32m   (...)\u001b[39m\u001b[32m    137\u001b[39m \u001b[33;03m        kwargs: Additional parameters to pass to the agent.\u001b[39;00m\n\u001b[32m    138\u001b[39m \u001b[33;03m    \"\"\"\u001b[39;00m\n\u001b[32m--> \u001b[39m\u001b[32m139\u001b[39m     \u001b[38;5;28;43mcls\u001b[39;49m\u001b[43m.\u001b[49m\u001b[43m_validate_tools\u001b[49m\u001b[43m(\u001b[49m\u001b[43mtools\u001b[49m\u001b[43m)\u001b[49m\n\u001b[32m    140\u001b[39m     prompt = \u001b[38;5;28mcls\u001b[39m.create_prompt(\n\u001b[32m    141\u001b[39m         tools,\n\u001b[32m    142\u001b[39m         prefix=prefix,\n\u001b[32m   (...)\u001b[39m\u001b[32m    145\u001b[39m         input_variables=input_variables,\n\u001b[32m    146\u001b[39m     )\n\u001b[32m    147\u001b[39m     llm_chain = LLMChain(\n\u001b[32m    148\u001b[39m         llm=llm,\n\u001b[32m    149\u001b[39m         prompt=prompt,\n\u001b[32m    150\u001b[39m         callback_manager=callback_manager,\n\u001b[32m    151\u001b[39m     )\n",
      "\u001b[36mFile \u001b[39m\u001b[32m~\\miniconda3\\envs\\genai\\Lib\\site-packages\\langchain\\agents\\mrkl\\base.py:163\u001b[39m, in \u001b[36mZeroShotAgent._validate_tools\u001b[39m\u001b[34m(cls, tools)\u001b[39m\n\u001b[32m    161\u001b[39m \u001b[38;5;129m@classmethod\u001b[39m\n\u001b[32m    162\u001b[39m \u001b[38;5;28;01mdef\u001b[39;00m\u001b[38;5;250m \u001b[39m\u001b[34m_validate_tools\u001b[39m(\u001b[38;5;28mcls\u001b[39m, tools: Sequence[BaseTool]) -> \u001b[38;5;28;01mNone\u001b[39;00m:\n\u001b[32m--> \u001b[39m\u001b[32m163\u001b[39m     \u001b[43mvalidate_tools_single_input\u001b[49m\u001b[43m(\u001b[49m\u001b[38;5;28;43mcls\u001b[39;49m\u001b[43m.\u001b[49m\u001b[34;43m__name__\u001b[39;49m\u001b[43m,\u001b[49m\u001b[43m \u001b[49m\u001b[43mtools\u001b[49m\u001b[43m)\u001b[49m\n\u001b[32m    164\u001b[39m     \u001b[38;5;28;01mif\u001b[39;00m \u001b[38;5;28mlen\u001b[39m(tools) == \u001b[32m0\u001b[39m:\n\u001b[32m    165\u001b[39m         \u001b[38;5;28;01mraise\u001b[39;00m \u001b[38;5;167;01mValueError\u001b[39;00m(\n\u001b[32m    166\u001b[39m             \u001b[33mf\u001b[39m\u001b[33m\"\u001b[39m\u001b[33mGot no tools for \u001b[39m\u001b[38;5;132;01m{\u001b[39;00m\u001b[38;5;28mcls\u001b[39m.\u001b[34m__name__\u001b[39m\u001b[38;5;132;01m}\u001b[39;00m\u001b[33m. At least one tool must be provided.\u001b[39m\u001b[33m\"\u001b[39m\n\u001b[32m    167\u001b[39m         )\n",
      "\u001b[36mFile \u001b[39m\u001b[32m~\\miniconda3\\envs\\genai\\Lib\\site-packages\\langchain\\agents\\utils.py:17\u001b[39m, in \u001b[36mvalidate_tools_single_input\u001b[39m\u001b[34m(class_name, tools)\u001b[39m\n\u001b[32m      7\u001b[39m \u001b[38;5;250m\u001b[39m\u001b[33;03m\"\"\"Validate tools for single input.\u001b[39;00m\n\u001b[32m      8\u001b[39m \n\u001b[32m      9\u001b[39m \u001b[33;03mArgs:\u001b[39;00m\n\u001b[32m   (...)\u001b[39m\u001b[32m     14\u001b[39m \u001b[33;03m    ValueError: If a multi-input tool is found in tools.\u001b[39;00m\n\u001b[32m     15\u001b[39m \u001b[33;03m\"\"\"\u001b[39;00m\n\u001b[32m     16\u001b[39m \u001b[38;5;28;01mfor\u001b[39;00m tool \u001b[38;5;129;01min\u001b[39;00m tools:\n\u001b[32m---> \u001b[39m\u001b[32m17\u001b[39m     \u001b[38;5;28;01mif\u001b[39;00m \u001b[38;5;129;01mnot\u001b[39;00m \u001b[43mtool\u001b[49m\u001b[43m.\u001b[49m\u001b[43mis_single_input\u001b[49m:\n\u001b[32m     18\u001b[39m         \u001b[38;5;28;01mraise\u001b[39;00m \u001b[38;5;167;01mValueError\u001b[39;00m(\n\u001b[32m     19\u001b[39m             \u001b[33mf\u001b[39m\u001b[33m\"\u001b[39m\u001b[38;5;132;01m{\u001b[39;00mclass_name\u001b[38;5;132;01m}\u001b[39;00m\u001b[33m does not support multi-input tool \u001b[39m\u001b[38;5;132;01m{\u001b[39;00mtool.name\u001b[38;5;132;01m}\u001b[39;00m\u001b[33m.\u001b[39m\u001b[33m\"\u001b[39m\n\u001b[32m     20\u001b[39m         )\n",
      "\u001b[31mAttributeError\u001b[39m: 'tuple' object has no attribute 'is_single_input'"
     ]
    }
   ],
   "source": [
    "agent = initialize_agent(tools=tool,llm=llm,agent = AgentType.ZERO_SHOT_REACT_DESCRIPTION,verbose = True)"
   ]
  },
  {
   "cell_type": "code",
   "execution_count": 34,
   "id": "d81da57d-9aa8-4305-9a16-32a2964640f7",
   "metadata": {},
   "outputs": [
    {
     "ename": "NameError",
     "evalue": "name 'agent' is not defined",
     "output_type": "error",
     "traceback": [
      "\u001b[31m---------------------------------------------------------------------------\u001b[39m",
      "\u001b[31mNameError\u001b[39m                                 Traceback (most recent call last)",
      "\u001b[36mCell\u001b[39m\u001b[36m \u001b[39m\u001b[32mIn[34]\u001b[39m\u001b[32m, line 1\u001b[39m\n\u001b[32m----> \u001b[39m\u001b[32m1\u001b[39m \u001b[43magent\u001b[49m.run(\u001b[33m\"\u001b[39m\u001b[33mwhat is the current GDP of india.\u001b[39m\u001b[33m\"\u001b[39m)\n",
      "\u001b[31mNameError\u001b[39m: name 'agent' is not defined"
     ]
    }
   ],
   "source": [
    "agent.run(\"what is the current GDP of india.\")"
   ]
  },
  {
   "cell_type": "code",
   "execution_count": null,
   "id": "bd1ab84c-67a0-4fd5-8ec5-7d4568d36faa",
   "metadata": {},
   "outputs": [],
   "source": []
  }
 ],
 "metadata": {
  "kernelspec": {
   "display_name": "Python 3 (ipykernel)",
   "language": "python",
   "name": "python3"
  },
  "language_info": {
   "codemirror_mode": {
    "name": "ipython",
    "version": 3
   },
   "file_extension": ".py",
   "mimetype": "text/x-python",
   "name": "python",
   "nbconvert_exporter": "python",
   "pygments_lexer": "ipython3",
   "version": "3.13.5"
  }
 },
 "nbformat": 4,
 "nbformat_minor": 5
}
