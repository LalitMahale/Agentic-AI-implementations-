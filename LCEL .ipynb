{
 "cells": [
  {
   "cell_type": "code",
   "execution_count": 1,
   "id": "b21bcc12-0319-4e45-823b-125f4d0a6d23",
   "metadata": {},
   "outputs": [
    {
     "data": {
      "text/plain": [
       "True"
      ]
     },
     "execution_count": 1,
     "metadata": {},
     "output_type": "execute_result"
    }
   ],
   "source": [
    "import os\n",
    "from dotenv import load_dotenv\n",
    "load_dotenv()"
   ]
  },
  {
   "cell_type": "code",
   "execution_count": 2,
   "id": "15f1bf6d-3369-41ff-affd-a4896dd45624",
   "metadata": {},
   "outputs": [
    {
     "name": "stderr",
     "output_type": "stream",
     "text": [
      "C:\\Users\\akrivia\\miniconda3\\envs\\genai\\Lib\\site-packages\\tqdm\\auto.py:21: TqdmWarning: IProgress not found. Please update jupyter and ipywidgets. See https://ipywidgets.readthedocs.io/en/stable/user_install.html\n",
      "  from .autonotebook import tqdm as notebook_tqdm\n"
     ]
    }
   ],
   "source": [
    "from langchain_google_genai import GoogleGenerativeAIEmbeddings\n",
    "from langchain_google_genai import ChatGoogleGenerativeAI"
   ]
  },
  {
   "cell_type": "code",
   "execution_count": 3,
   "id": "a97c8c90-3652-4a27-a14b-865f1e04f3ca",
   "metadata": {},
   "outputs": [],
   "source": [
    "embedding = GoogleGenerativeAIEmbeddings(google_api_key=os.getenv(\"GOOGLE_API_KEY\"),model=\"models/embedding-001\")\n",
    "llm = ChatGoogleGenerativeAI(google_api_key = os.getenv(\"GOOGLE_API_KEY\"),model=\"gemini-2.5-flash\")"
   ]
  },
  {
   "cell_type": "code",
   "execution_count": 4,
   "id": "d516395b-0d41-42c9-9114-ac94b13c5b88",
   "metadata": {},
   "outputs": [
    {
     "data": {
      "text/plain": [
       "'Hi there! How can I help you today?'"
      ]
     },
     "execution_count": 4,
     "metadata": {},
     "output_type": "execute_result"
    }
   ],
   "source": [
    "llm.invoke(\"hi\").content"
   ]
  },
  {
   "cell_type": "markdown",
   "id": "6c3a6769-0e74-4269-a5fa-9385a93e6969",
   "metadata": {},
   "source": [
    "## Simple AI Assistant "
   ]
  },
  {
   "cell_type": "code",
   "execution_count": 5,
   "id": "5b36dd8c-60cf-47d5-8225-23f33b72c7d1",
   "metadata": {},
   "outputs": [
    {
     "name": "stdin",
     "output_type": "stream",
     "text": [
      "Type your Question.\n",
      "If you want to quit the chat write q hi\n"
     ]
    },
    {
     "name": "stdout",
     "output_type": "stream",
     "text": [
      "Hi there! How can I help you today?\n"
     ]
    },
    {
     "name": "stdin",
     "output_type": "stream",
     "text": [
      "Type your Question.\n",
      "If you want to quit the chat write q q\n"
     ]
    },
    {
     "name": "stdout",
     "output_type": "stream",
     "text": [
      "Goodbye take care Yourself\n"
     ]
    }
   ],
   "source": [
    "while True:\n",
    "    question = input(\"Type your Question.\\nIf you want to quit the chat write q\")\n",
    "    if question != \"q\":\n",
    "        print(llm.invoke(question).content)\n",
    "    else:\n",
    "        print(\"Goodbye take care Yourself\")\n",
    "        break"
   ]
  },
  {
   "cell_type": "markdown",
   "id": "c082a206-e2f6-4ed4-82ca-d5632e551c7d",
   "metadata": {},
   "source": [
    "### memory integration"
   ]
  },
  {
   "cell_type": "code",
   "execution_count": 6,
   "id": "dba0470e-ef15-485f-8551-8956052598ad",
   "metadata": {},
   "outputs": [],
   "source": [
    "from langchain_core.chat_history import BaseChatMessageHistory\n",
    "from langchain_core.chat_history import InMemoryChatMessageHistory\n",
    "from langchain_core.runnables.history import RunnableWithMessageHistory\n",
    "from langchain_core.messages import AIMessage"
   ]
  },
  {
   "cell_type": "code",
   "execution_count": 7,
   "id": "458c5fb1-0c3d-4e89-a842-9bd2200df61b",
   "metadata": {},
   "outputs": [],
   "source": [
    "store = {}"
   ]
  },
  {
   "cell_type": "code",
   "execution_count": 8,
   "id": "486da902-e176-4d37-b7c3-54e53b1c8bdb",
   "metadata": {},
   "outputs": [],
   "source": [
    "def get_session_history(session_id:str) -> BaseChatMessageHistory:\n",
    "    if session_id not in store:\n",
    "        store[session_id] = InMemoryChatMessageHistory()\n",
    "    return store[session_id]"
   ]
  },
  {
   "cell_type": "code",
   "execution_count": 9,
   "id": "a1fe099b-69cc-45a2-bce9-55d9ad761bee",
   "metadata": {},
   "outputs": [],
   "source": [
    "config = {\"configurable\":{'session_id':'firstchat'}}"
   ]
  },
  {
   "cell_type": "code",
   "execution_count": 10,
   "id": "c8944f68-adfd-4938-89ea-bd9f1e0076fe",
   "metadata": {},
   "outputs": [],
   "source": [
    "model_with_memory = RunnableWithMessageHistory(llm,get_session_history)"
   ]
  },
  {
   "cell_type": "code",
   "execution_count": 11,
   "id": "38305a77-c78d-4920-ac4b-0f91c6313291",
   "metadata": {},
   "outputs": [
    {
     "data": {
      "text/plain": [
       "'Hi Lalit! Nice to meet you.\\n\\nHow can I assist you today?'"
      ]
     },
     "execution_count": 11,
     "metadata": {},
     "output_type": "execute_result"
    }
   ],
   "source": [
    "model_with_memory.invoke((\"Hi, I'm Lalit\"),config = config).content"
   ]
  },
  {
   "cell_type": "code",
   "execution_count": 12,
   "id": "1a5a9f5b-1185-4e44-add3-eb6bbe486461",
   "metadata": {},
   "outputs": [
    {
     "data": {
      "text/plain": [
       "'That\\'s a profound and deeply personal question, Lalit!\\n\\nAs an AI, I don\\'t have access to your personal history, memories, feelings, or experiences. I don\\'t know who you are as an individual human being with all your unique qualities, relationships, and journey.\\n\\n\"Who am I?\" is a question that people often explore throughout their lives. It typically refers to:\\n\\n*   **Your unique identity:** Your personality, values, beliefs, passions, strengths, weaknesses.\\n*   **Your history:** Your past experiences, the people who shaped you, the challenges you\\'ve overcome.\\n*   **Your relationships:** How you connect with others, your roles in their lives (friend, family member, colleague).\\n*   **Your purpose:** What drives you, what you want to achieve, what gives your life meaning.\\n*   **Your aspirations:** Who you want to become in the future.\\n\\nWhile I can\\'t tell you who you are, I can help you think about it. If you\\'d like, we could explore some prompts or ideas that might help you reflect on different aspects of your identity. For example, we could discuss:\\n\\n*   What are your core values?\\n*   What activities make you feel most alive?\\n*   What challenges have shaped you the most?\\n*   How do you want to be remembered?\\n\\nLet me know if you\\'d like to explore this further!'"
      ]
     },
     "execution_count": 12,
     "metadata": {},
     "output_type": "execute_result"
    }
   ],
   "source": [
    "model_with_memory.invoke((\"who am i ?\"),config = config).content"
   ]
  },
  {
   "cell_type": "markdown",
   "id": "5cd956a2-985a-4c96-8580-7073f89af1fc",
   "metadata": {},
   "source": [
    "## RAG base AI Assistant"
   ]
  },
  {
   "cell_type": "code",
   "execution_count": 13,
   "id": "6ee6895f-2a47-4ed6-8a91-2bdd11cf6e33",
   "metadata": {},
   "outputs": [],
   "source": [
    "from langchain_community.document_loaders import TextLoader, DirectoryLoader, PyPDFLoader,PyM\n",
    "from langchain_text_splitters import RecursiveCharacterTextSplitter\n",
    "from langchain import PromptTemplate\n",
    "from langchain_core.runnables import RunnableParallel, RunnablePassthrough, RunnableLambda\n",
    "from langchain_core.output_parsers import StrOutputParser\n",
    "from langchain_chroma import Chroma"
   ]
  },
  {
   "cell_type": "code",
   "execution_count": 16,
   "id": "734f9acd-44ab-45fe-9e14-3c698c3e4098",
   "metadata": {},
   "outputs": [],
   "source": [
    "loader = DirectoryLoader(\"./data\",glob=\"./*.pdf\",loader_cls=PyPDFLoader)\n",
    "pdf_loader = PyPDFLoader(\"data/intro-to-algo-4e.pdf\").load()"
   ]
  },
  {
   "cell_type": "code",
   "execution_count": 17,
   "id": "fe56b00c-0bc1-4c46-85fb-1a66b54709ed",
   "metadata": {
    "scrolled": true
   },
   "outputs": [
    {
     "name": "stderr",
     "output_type": "stream",
     "text": [
      "Previous trailer cannot be read: (\"'NumberObject' object is not subscriptable\",)\n",
      "parsing for Object Streams\n"
     ]
    }
   ],
   "source": [
    "# docs = loader.load()\n",
    "\n",
    "docs = pdf_loader.load()"
   ]
  },
  {
   "cell_type": "code",
   "execution_count": null,
   "id": "4a59b4b4-b75a-45b5-a67a-649e23532309",
   "metadata": {},
   "outputs": [],
   "source": [
    "text_splitter = RecursiveCharacterTextSplitter(chunk_size = 50,chunk_overlap = 10,length_function = len)"
   ]
  },
  {
   "cell_type": "code",
   "execution_count": null,
   "id": "9371d892-3d37-434c-ba18-6a69cb55c45c",
   "metadata": {},
   "outputs": [],
   "source": [
    "new_docs = text_splitter.split_documents(documents = docs)\n",
    "doc_strings = [doc.page_content for doc in new_docs]"
   ]
  },
  {
   "cell_type": "code",
   "execution_count": null,
   "id": "2a3824ff-1116-42f6-bf48-4025d3001072",
   "metadata": {},
   "outputs": [],
   "source": [
    "docs"
   ]
  },
  {
   "cell_type": "code",
   "execution_count": null,
   "id": "41f40f1b-8168-4451-b07c-c256c1e9f29f",
   "metadata": {},
   "outputs": [],
   "source": []
  },
  {
   "cell_type": "code",
   "execution_count": null,
   "id": "6762ccd2-2af2-48df-883d-97a87893e3d0",
   "metadata": {},
   "outputs": [],
   "source": [
    "db = Chroma.from_documents(new_docs,embedding=embedding)\n",
    "retriever = db.as_retriever(search_kwargs = {\"k\":4})"
   ]
  },
  {
   "cell_type": "markdown",
   "id": "59121265-ac0b-4df9-87f4-ba74a2392a3d",
   "metadata": {},
   "source": [
    "### Agents"
   ]
  },
  {
   "cell_type": "code",
   "execution_count": 18,
   "id": "410c8281-8e83-4085-9da9-0c6223ac316d",
   "metadata": {},
   "outputs": [],
   "source": [
    "from langchain_community.tools import WikipediaQueryRun\n",
    "from langchain_community.utilities import WikipediaAPIWrapper"
   ]
  },
  {
   "cell_type": "code",
   "execution_count": 19,
   "id": "1c6da01f-da5f-425c-a8ff-5bebf70c38ed",
   "metadata": {},
   "outputs": [],
   "source": [
    "wiki_api_wrapper = WikipediaAPIWrapper()"
   ]
  },
  {
   "cell_type": "code",
   "execution_count": 20,
   "id": "6f81d11a-08a3-4e33-b8dc-333908cb548f",
   "metadata": {},
   "outputs": [],
   "source": [
    "tool  = WikipediaQueryRun(api_wrapper=wiki_api_wrapper)"
   ]
  },
  {
   "cell_type": "code",
   "execution_count": 21,
   "id": "3e1f0c76-d085-46f1-9eb5-643e58436ea9",
   "metadata": {},
   "outputs": [
    {
     "data": {
      "text/plain": [
       "'wikipedia'"
      ]
     },
     "execution_count": 21,
     "metadata": {},
     "output_type": "execute_result"
    }
   ],
   "source": [
    "tool.name"
   ]
  },
  {
   "cell_type": "code",
   "execution_count": 23,
   "id": "302bc7d5-ef05-4dc8-bd8e-3c1c1beeb833",
   "metadata": {},
   "outputs": [
    {
     "name": "stderr",
     "output_type": "stream",
     "text": [
      "C:\\Users\\akrivia\\miniconda3\\envs\\genai\\Lib\\site-packages\\wikipedia\\wikipedia.py:389: GuessedAtParserWarning: No parser was explicitly specified, so I'm using the best available HTML parser for this system (\"html.parser\"). This usually isn't a problem, but if you run this code on another system, or in a different virtual environment, it may use a different parser and behave differently.\n",
      "\n",
      "The code that caused this warning is on line 389 of the file C:\\Users\\akrivia\\miniconda3\\envs\\genai\\Lib\\site-packages\\wikipedia\\wikipedia.py. To get rid of this warning, pass the additional argument 'features=\"html.parser\"' to the BeautifulSoup constructor.\n",
      "\n",
      "  lis = BeautifulSoup(html).find_all('li')\n"
     ]
    },
    {
     "data": {
      "text/plain": [
       "'Page: Artificial intelligence\\nSummary: Artificial intelligence (AI) is the capability of computational systems to perform tasks typically associated with human intelligence, such as learning, reasoning, problem-solving, perception, and decision-making. It is a field of research in computer science that develops and studies methods and software that enable machines to perceive their environment and use learning and intelligence to take actions that maximize their chances of achieving defined goals.\\nHigh-profile applications of AI include advanced web search engines (e.g., Google Search); recommendation systems (used by YouTube, Amazon, and Netflix); virtual assistants (e.g., Google Assistant, Siri, and Alexa); autonomous vehicles (e.g., Waymo); generative and creative tools (e.g., language models and AI art); and superhuman play and analysis in strategy games (e.g., chess and Go). However, many AI applications are not perceived as AI: \"A lot of cutting edge AI has filtered into general applications, often without being called AI because once something becomes useful enough and common enough it\\'s not labeled AI anymore.\"\\nVarious subfields of AI research are centered around particular goals and the use of particular tools. The traditional goals of AI research include learning, reasoning, knowledge representation, planning, natural language processing, perception, and support for robotics. To reach these goals, AI researchers have adapted and integrated a wide range of techniques, including search and mathematical optimization, formal logic, artificial neural networks, and methods based on statistics, operations research, and economics. AI also draws upon psychology, linguistics, philosophy, neuroscience, and other fields. Some companies, such as OpenAI, Google DeepMind and Meta, aim to create artificial general intelligence (AGI)—AI that can complete virtually any cognitive task at least as well as a human.\\nArtificial intelligence was founded as an academic discipline in 1956, and the field went through multiple cycles of optimism throughout its history, followed by periods of disappointment and loss of funding, known as AI winters. Funding and interest vastly increased after 2012 when graphics processing units started being used to accelerate neural networks and deep learning outperformed previous AI techniques. This growth accelerated further after 2017 with the transformer architecture. In the 2020s, an ongoing period of rapid progress in advanced generative AI became known as the AI boom. Generative AI\\'s ability to create and modify content has led to several unintended consequences and harms, which has raised ethical concerns about AI\\'s long-term effects and potential existential risks, prompting discussions about regulatory policies to ensure the safety and benefits of the technology.\\n\\n\\n\\nPage: .ai\\nSummary: .ai is the Internet country code top-level domain (ccTLD) for Anguilla, a British Overseas Territory in the Caribbean. It is administered by the government of Anguilla.\\nIt is a popular domain hack with companies and projects related to the artificial intelligence industry (AI).\\nGoogle\\'s ad targeting treats .ai as a generic top-level domain (gTLD) because \"users and website owners frequently see [the domain] as being more generic than country-targeted.\"\\nIdentity Digital began managing the domain as of January 2025.'"
      ]
     },
     "execution_count": 23,
     "metadata": {},
     "output_type": "execute_result"
    }
   ],
   "source": [
    "tool.run({\"query\":\"ai\"})"
   ]
  },
  {
   "cell_type": "code",
   "execution_count": 24,
   "id": "2cf9ee63-ff01-4e99-a373-243ce81af95c",
   "metadata": {},
   "outputs": [],
   "source": [
    "from langchain_community.tools import YouTubeSearchTool"
   ]
  },
  {
   "cell_type": "code",
   "execution_count": 25,
   "id": "d103fcd4-c23e-4590-a4ce-b8c7b454ce2f",
   "metadata": {},
   "outputs": [],
   "source": [
    "yt = YouTubeSearchTool()"
   ]
  },
  {
   "cell_type": "code",
   "execution_count": 26,
   "id": "1e5fd516-803a-4410-ab6a-105d930fb8ec",
   "metadata": {},
   "outputs": [
    {
     "data": {
      "text/plain": [
       "'youtube_search'"
      ]
     },
     "execution_count": 26,
     "metadata": {},
     "output_type": "execute_result"
    }
   ],
   "source": [
    "yt.name"
   ]
  },
  {
   "cell_type": "code",
   "execution_count": 27,
   "id": "92c46541-925f-482c-9a38-04000c57fbe3",
   "metadata": {},
   "outputs": [
    {
     "data": {
      "text/plain": [
       "{'query': {'title': 'Query', 'type': 'string'}}"
      ]
     },
     "execution_count": 27,
     "metadata": {},
     "output_type": "execute_result"
    }
   ],
   "source": [
    "yt.args"
   ]
  },
  {
   "cell_type": "code",
   "execution_count": 30,
   "id": "ee0f2a7e-e4ad-4726-9d94-3eb175d13834",
   "metadata": {},
   "outputs": [
    {
     "data": {
      "text/plain": [
       "\"['https://www.youtube.com/shorts/c9ooPiwDdio', 'https://www.youtube.com/shorts/JhAVOTV1k_Q']\""
      ]
     },
     "execution_count": 30,
     "metadata": {},
     "output_type": "execute_result"
    }
   ],
   "source": [
    "yt.run({\"query\":\"indian drama\"})"
   ]
  },
  {
   "cell_type": "code",
   "execution_count": 31,
   "id": "4151afc6-940d-47a9-a4cc-3e6ec63016b0",
   "metadata": {},
   "outputs": [],
   "source": [
    "from langchain.agents import AgentType\n",
    "from langchain.agents import load_tools\n",
    "from langchain.agents import initialize_agent"
   ]
  },
  {
   "cell_type": "code",
   "execution_count": 40,
   "id": "7e8a7a3b-a9ec-44d8-ba5a-50f1db64ca19",
   "metadata": {},
   "outputs": [
    {
     "ename": "ValueError",
     "evalue": "Got unknown tool youtube_search",
     "output_type": "error",
     "traceback": [
      "\u001b[31m---------------------------------------------------------------------------\u001b[39m",
      "\u001b[31mValueError\u001b[39m                                Traceback (most recent call last)",
      "\u001b[36mCell\u001b[39m\u001b[36m \u001b[39m\u001b[32mIn[40]\u001b[39m\u001b[32m, line 1\u001b[39m\n\u001b[32m----> \u001b[39m\u001b[32m1\u001b[39m tool = \u001b[43mload_tools\u001b[49m\u001b[43m(\u001b[49m\u001b[43m[\u001b[49m\u001b[33;43m'\u001b[39;49m\u001b[33;43mwikipedia\u001b[39;49m\u001b[33;43m'\u001b[39;49m\u001b[43m,\u001b[49m\u001b[33;43m'\u001b[39;49m\u001b[33;43myoutube_search\u001b[39;49m\u001b[33;43m'\u001b[39;49m\u001b[43m]\u001b[49m\u001b[43m,\u001b[49m\u001b[43mllm\u001b[49m\u001b[43m=\u001b[49m\u001b[43mllm\u001b[49m\u001b[43m)\u001b[49m\n",
      "\u001b[36mFile \u001b[39m\u001b[32m~\\miniconda3\\envs\\genai\\Lib\\site-packages\\langchain_community\\agent_toolkits\\load_tools.py:756\u001b[39m, in \u001b[36mload_tools\u001b[39m\u001b[34m(tool_names, llm, callbacks, allow_dangerous_tools, **kwargs)\u001b[39m\n\u001b[32m    754\u001b[39m         tools.append(tool)\n\u001b[32m    755\u001b[39m     \u001b[38;5;28;01melse\u001b[39;00m:\n\u001b[32m--> \u001b[39m\u001b[32m756\u001b[39m         \u001b[38;5;28;01mraise\u001b[39;00m \u001b[38;5;167;01mValueError\u001b[39;00m(\u001b[33mf\u001b[39m\u001b[33m\"\u001b[39m\u001b[33mGot unknown tool \u001b[39m\u001b[38;5;132;01m{\u001b[39;00mname\u001b[38;5;132;01m}\u001b[39;00m\u001b[33m\"\u001b[39m)\n\u001b[32m    757\u001b[39m \u001b[38;5;28;01mif\u001b[39;00m callbacks \u001b[38;5;129;01mis\u001b[39;00m \u001b[38;5;129;01mnot\u001b[39;00m \u001b[38;5;28;01mNone\u001b[39;00m:\n\u001b[32m    758\u001b[39m     \u001b[38;5;28;01mfor\u001b[39;00m tool \u001b[38;5;129;01min\u001b[39;00m tools:\n",
      "\u001b[31mValueError\u001b[39m: Got unknown tool youtube_search"
     ]
    }
   ],
   "source": [
    "tool = load_tools(['wikipedia','youtube_search'],llm=llm)"
   ]
  },
  {
   "cell_type": "code",
   "execution_count": null,
   "id": "87657587-1656-45d9-8475-7cc077f1c0f7",
   "metadata": {
    "scrolled": true
   },
   "outputs": [],
   "source": [
    "agent = initialize_agent(tools=tool,llm=llm,agent = AgentType.ZERO_SHOT_REACT_DESCRIPTION,verbose = True)"
   ]
  },
  {
   "cell_type": "code",
   "execution_count": 39,
   "id": "d81da57d-9aa8-4305-9a16-32a2964640f7",
   "metadata": {},
   "outputs": [
    {
     "name": "stderr",
     "output_type": "stream",
     "text": [
      "C:\\Users\\akrivia\\AppData\\Local\\Temp\\ipykernel_17612\\4123654123.py:1: LangChainDeprecationWarning: The method `Chain.run` was deprecated in langchain 0.1.0 and will be removed in 1.0. Use :meth:`~invoke` instead.\n",
      "  agent.run(\"what is the current GDP of india.\")\n"
     ]
    },
    {
     "name": "stdout",
     "output_type": "stream",
     "text": [
      "\n",
      "\n",
      "\u001b[1m> Entering new AgentExecutor chain...\u001b[0m\n",
      "\u001b[32;1m\u001b[1;3mAction: wikipedia\n",
      "Action Input: GDP of India\u001b[0m\n",
      "Observation: \u001b[36;1m\u001b[1;3mPage: Economy of India\n",
      "Summary: The economy of India is a developing mixed economy with a notable public sector in strategic sectors. It is the world's fourth-largest economy by nominal GDP and the third-largest by purchasing power parity (PPP); on a per capita income basis, India ranked 136th by GDP (nominal) and 119th by GDP (PPP). From independence in 1947 until 1991, successive governments followed the Soviet model and promoted protectionist economic policies, with extensive Sovietization, state intervention, demand-side economics, natural resources, bureaucrat-driven enterprises and economic regulation. This is characterised as dirigism, in the form of the Licence Raj. The end of the Cold War and an acute balance of payments crisis in 1991 led to the adoption of a broad economic liberalisation in India and indicative planning. India has about 1,900 public sector companies, with the Indian state having complete control and ownership of railways and highways. The Indian government has major control over banking, insurance, farming, fertilizers and chemicals, airports, essential utilities. The state also exerts substantial control over digitalization, telecommunication, supercomputing, space, port and shipping industries, which were effectively nationalised in the mid-1950s but has seen the emergence of key corporate players.\n",
      "Nearly 70% of India's GDP is driven by domestic consumption; the country remains the world's fourth-largest consumer market. Aside private consumption, India's GDP is also fueled by government spending, investments, and exports. In 2022, India was the world's 10th-largest importer and the 8th-largest exporter. India has been a member of the World Trade Organization since 1 January 1995. It ranks 63rd on the ease of doing business index and 40th on the Global Competitiveness Index. India has one of the world's highest number of billionaires along with extreme income inequality.  Economists and social scientists often consider India a welfare state. India's overall social welfare spending stood at 8.6% of GDP in 2021-22, which is much lower than the average for OECD nations. With 586 million workers, the Indian labour force is the world's second-largest. Despite having one of the longest working hours, India has one of the lowest workforce productivity levels in the world. Economists say that due to structural economic problems, India is experiencing jobless economic growth.\n",
      "During the Great Recession, the economy faced a mild slowdown. India endorsed Keynesian policy and initiated stimulus measures (both fiscal and monetary) to boost growth and generate demand. In subsequent years, economic growth revived.\n",
      "In 2021–22, the foreign direct investment (FDI) in India was $82 billion. The leading sectors for FDI inflows were the Finance, Banking, Insurance and R&D. India has free trade agreements with several nations and blocs, including ASEAN, SAFTA, Mercosur, South Korea, Japan, Australia, the United Arab Emirates, and several others which are in effect or under negotiating stage.\n",
      "The service sector makes up more than 50% of GDP and remains the fastest growing sector, while the industrial sector and the agricultural sector employs a majority of the labor force. The Bombay Stock Exchange and National Stock Exchange are some of the world's largest stock exchanges by market capitalisation. India is the world's sixth-largest manufacturer, representing 2.6% of global manufacturing output. Nearly 65% of India's population is rural, and contributes about 50% of India's GDP. India faces high unemployment, rising income inequality, and a drop in aggregate demand. India's gross domestic savings rate stood at 29.3% of GDP in 2022.\n",
      "\n",
      "Page: List of Indian states and union territories by GDP\n",
      "Summary: These are lists of Indian states and union territories by their nominal gross state domestic product (GSDP). GSDP is the sum of all value added by industries within each state or union territory and serves as a counterpart to \u001b[0m\n",
      "Thought:\u001b[32;1m\u001b[1;3mThought: The initial search for \"GDP of India\" provided an overview of India's economy and its ranking by nominal GDP, but did not give a specific numerical value for the current GDP. I need to find a concrete number. I will search again for \"India nominal GDP\" to try and get a direct answer. If that doesn't work, I'll review the \"Economy of India\" page more carefully for a specific figure.\n",
      "\n",
      "Action: wikipedia\n",
      "Action Input: India nominal GDP\u001b[0m\n",
      "Observation: \u001b[36;1m\u001b[1;3mPage: List of countries by GDP (nominal)\n",
      "Summary: Gross domestic product (GDP) is the market value of all final goods and services from a nation in a given year. Countries are sorted by nominal GDP estimates from financial and statistical institutions, which are calculated at market or government official exchange rates. Nominal GDP does not take into account differences in the cost of living in different countries, and the results can vary greatly from one year to another based on fluctuations in the exchange rates of the country's currency. Such fluctuations may change a country's ranking from one year to the next, even though they often make little or no difference in the standard of living of its population.\n",
      "Comparisons of national wealth are also frequently made based on purchasing power parity (PPP), to adjust for differences in the cost of living in different countries. Other metrics, nominal GDP per capita and a corresponding GDP (PPP) per capita, are used for comparing national standard of living. On the whole, PPP per capita figures are less spread than nominal GDP per capita figures.\n",
      "The rankings of national economies over time have changed considerably; the economy of the United States surpassed the British Empire's output around 1916, which in turn had surpassed the economy of the Qing dynasty in aggregate output decades earlier. Since China's transition to a socialist market economy through controlled privatisation and deregulation, the country has seen its ranking increase from ninth in 1978, to second in 2010; China's economic growth accelerated during this period and its share of global nominal GDP surged from 2% in 1980 to 18% in 2021.\n",
      "The first list includes estimates compiled by the International Monetary Fund's World Economic Outlook, the second list shows the World Bank's data, and the third list includes data compiled by the United Nations Statistics Division. The IMF's definitive data for the past year and estimates for the current year are published twice a year in April and October. Non-sovereign entities (the world, continents, and some dependent territories) and states with limited international recognition (such as Kosovo and Taiwan) are included in the list where they appear in the sources.\n",
      "\n",
      "Page: List of countries by past and projected GDP (nominal)\n",
      "Summary: This is an alphabetical list of countries by past and projected gross domestic product (nominal) as ranked by the IMF. Figures are based on official exchange rates, not on the purchasing power parity (PPP) methodology. Values are given in millions of United States dollars (USD) and have not been adjusted for inflation. These figures have been taken from the International Monetary Fund's World Economic Outlook (WEO) Database (April 2025 edition) and/or other sources.\n",
      "For older GDP trends, see List of regions by past GDP (PPP).\n",
      "\n",
      "Page: List of Indian states and union territories by GDP\n",
      "Summary: These are lists of Indian states and union territories by their nominal gross state domestic product (GSDP). GSDP is the sum of all value added by industries within each state or union territory and serves as a counterpart to the national gross domestic product (GDP). As of 2011, the Government accounted for about 21% of the GDP followed by agriculture with 21% and corporate sector at 12%. The remaining 48% is sourced from small proprietorship and partnership companies, unorganized sector and households.\u001b[0m\n",
      "Thought:\u001b[32;1m\u001b[1;3mThought: I have tried multiple search queries to find the current GDP of India, including specific terms like \"nominal GDP,\" \"2023,\" and \"IMF.\" Each search has returned summaries of Wikipedia pages, primarily \"Economy of India\" and \"List of countries by GDP (nominal).\" While these summaries confirm India's ranking (fourth-largest by nominal GDP), none of them provide a specific numerical value for its current GDP. The tool's limitation to only provide summaries means I cannot access the tables on the \"List of countries by GDP (nominal)\" page where this information would be located. Therefore, I cannot state the exact numerical value of India's current GDP using the provided tools. I can only state its ranking.\n",
      "\n",
      "Final Answer: Based on the information available through the Wikipedia tool's summaries, India is the world's fourth-largest economy by nominal GDP. A specific numerical value for its current GDP is not provided in the summaries.\u001b[0m\n",
      "\n",
      "\u001b[1m> Finished chain.\u001b[0m\n"
     ]
    },
    {
     "data": {
      "text/plain": [
       "\"Based on the information available through the Wikipedia tool's summaries, India is the world's fourth-largest economy by nominal GDP. A specific numerical value for its current GDP is not provided in the summaries.\""
      ]
     },
     "execution_count": 39,
     "metadata": {},
     "output_type": "execute_result"
    }
   ],
   "source": [
    "agent.run(\"what is the current GDP of india.\")"
   ]
  },
  {
   "cell_type": "code",
   "execution_count": null,
   "id": "bd1ab84c-67a0-4fd5-8ec5-7d4568d36faa",
   "metadata": {},
   "outputs": [],
   "source": []
  }
 ],
 "metadata": {
  "kernelspec": {
   "display_name": "Python 3 (ipykernel)",
   "language": "python",
   "name": "python3"
  },
  "language_info": {
   "codemirror_mode": {
    "name": "ipython",
    "version": 3
   },
   "file_extension": ".py",
   "mimetype": "text/x-python",
   "name": "python",
   "nbconvert_exporter": "python",
   "pygments_lexer": "ipython3",
   "version": "3.13.5"
  }
 },
 "nbformat": 4,
 "nbformat_minor": 5
}
